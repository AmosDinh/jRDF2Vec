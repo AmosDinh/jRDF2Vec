{
 "cells": [
  {
   "cell_type": "markdown",
   "id": "6ad0d1ab-8c62-47be-a1f3-a69db47f41d1",
   "metadata": {},
   "source": [
    "# jRDF2vec for Order-Aware RDF2vec"
   ]
  },
  {
   "cell_type": "markdown",
   "id": "165e69bb-601b-4572-9b32-367ab09a12da",
   "metadata": {
    "jp-MarkdownHeadingCollapsed": true,
    "tags": []
   },
   "source": [
    "## Setup\n",
    "These steps have to be performed only once."
   ]
  },
  {
   "cell_type": "markdown",
   "id": "577090f3-82e5-4143-a6f9-842737477cb5",
   "metadata": {},
   "source": [
    "### Download jRDF2vec JAR"
   ]
  },
  {
   "cell_type": "code",
   "execution_count": 6,
   "id": "58a9bd4d-c1a7-44d4-8d85-2dd8648c3410",
   "metadata": {},
   "outputs": [],
   "source": [
    "!wget https://github.com/dwslab/jRDF2Vec/blob/jars/jars/jrdf2vec-1.3-SNAPSHOT.jar?raw=true -O jrdf2vec.jar &> download_log.txt"
   ]
  },
  {
   "cell_type": "markdown",
   "id": "1d866a68-a5ba-4985-a1bb-ee2e2cc9178a",
   "metadata": {},
   "source": [
    "### Download and Compile Structured-word2vec"
   ]
  },
  {
   "cell_type": "code",
   "execution_count": 10,
   "id": "2e32589e-fe9f-4d78-8190-e36c32797163",
   "metadata": {},
   "outputs": [
    {
     "name": "stdout",
     "output_type": "stream",
     "text": [
      "Cloning into 'wang2vec'...\n",
      "remote: Enumerating objects: 112, done.\u001b[K\n",
      "remote: Total 112 (delta 0), reused 0 (delta 0), pack-reused 112\u001b[K\n",
      "Receiving objects: 100% (112/112), 58.15 KiB | 11.63 MiB/s, done.\n",
      "Resolving deltas: 100% (67/67), done.\n"
     ]
    }
   ],
   "source": [
    "!git clone https://github.com/wlin12/wang2vec"
   ]
  },
  {
   "cell_type": "code",
   "execution_count": 13,
   "id": "0f5c90e4-2a82-417c-9cf9-7b65154fb63f",
   "metadata": {},
   "outputs": [
    {
     "name": "stdout",
     "output_type": "stream",
     "text": [
      "gcc word2vec.c -o word2vec -lm -pthread -O3 -march=native -Wall -funroll-loops -Wno-unused-result -g\n",
      "gcc cngram2vec.c -o cngram2vec -lm -pthread -O3 -march=native -Wall -funroll-loops -Wno-unused-result -g\n",
      "\u001b[01m\u001b[Kcngram2vec.c:\u001b[m\u001b[K In function ‘\u001b[01m\u001b[KTrainModelThread\u001b[m\u001b[K’:\n",
      "\u001b[01m\u001b[Kcngram2vec.c:681:13:\u001b[m\u001b[K \u001b[01;35m\u001b[Kwarning: \u001b[m\u001b[Kvariable ‘\u001b[01m\u001b[Kl1\u001b[m\u001b[K’ set but not used [\u001b[01;35m\u001b[K-Wunused-but-set-variable\u001b[m\u001b[K]\n",
      "  681 |   long long \u001b[01;35m\u001b[Kl1\u001b[m\u001b[K, l2, c, target, label, local_iter = iter;\n",
      "      |             \u001b[01;35m\u001b[K^~\u001b[m\u001b[K\n",
      "gcc weightedWord2vec.c -o weightedWord2vec -lm -pthread -O3 -march=native -Wall -funroll-loops -Wno-unused-result -g\n",
      "gcc wordless2vec.c -o wordless2vec -lm -pthread -O3 -march=native -Wall -funroll-loops -Wno-unused-result -g\n",
      "gcc word2phrase.c -o word2phrase -lm -pthread -O3 -march=native -Wall -funroll-loops -Wno-unused-result -g\n",
      "gcc distance.c -o distance -lm -pthread -O3 -march=native -Wall -funroll-loops -Wno-unused-result -g\n",
      "gcc word-analogy.c -o word-analogy -lm -pthread -O3 -march=native -Wall -funroll-loops -Wno-unused-result -g\n",
      "gcc compute-accuracy.c -o compute-accuracy -lm -pthread -O3 -march=native -Wall -funroll-loops -Wno-unused-result -g\n",
      "gcc distance_txt.c -o distance_txt -lm -pthread -O3 -march=native -Wall -funroll-loops -Wno-unused-result -g\n",
      "gcc distance_fast.c -o distance_fast -lm -pthread -O3 -march=native -Wall -funroll-loops -Wno-unused-result -g\n",
      "gcc kmeans_txt.c -o kmeans_txt -lm -pthread -O3 -march=native -Wall -funroll-loops -Wno-unused-result -g\n"
     ]
    }
   ],
   "source": [
    "!cd wang2vec && make"
   ]
  },
  {
   "cell_type": "code",
   "execution_count": 14,
   "id": "ce948344-cd9d-4876-b43f-24c0d6e48cfe",
   "metadata": {},
   "outputs": [],
   "source": [
    "!mv ./wang2vec/word2vec ./word2vec"
   ]
  },
  {
   "cell_type": "markdown",
   "id": "ae550df7-e6eb-435c-b729-a441c489d667",
   "metadata": {},
   "source": [
    "## Walk Generation"
   ]
  },
  {
   "cell_type": "code",
   "execution_count": 20,
   "id": "910840f0-c86c-4d0f-9ae5-faae701e8b19",
   "metadata": {},
   "outputs": [
    {
     "name": "stdout",
     "output_type": "stream",
     "text": [
      "Using server port: 1808\n",
      "Using 8 threads for walk generation and training.\n",
      "Using depth 4\n",
      "Generating 100 walks per entity.\n",
      "Only walks are being generated, training is performed.\n",
      "18 Jan 2023 17:44:01 DEBUG [main] (FileManagerImpl.java:170) - Add location: LocatorFile\n",
      "18 Jan 2023 17:44:01 DEBUG [main] (FileManagerImpl.java:170) - Add location: ClassLoaderLocator\n",
      "18 Jan 2023 17:44:01 DEBUG [main] (LocationMapper.java:173) - Failed to find configuration: file:location-mapping.rdf;file:location-mapping.n3;file:location-mapping.ttl;file:etc/location-mapping.rdf;file:etc/location-mapping.n3;file:etc/location-mapping.ttl\n",
      "18 Jan 2023 17:44:01 DEBUG [main] (FileManagerImpl.java:170) - Add location: LocatorFile\n",
      "18 Jan 2023 17:44:01 DEBUG [main] (FileManagerImpl.java:170) - Add location: LocatorURL\n",
      "18 Jan 2023 17:44:01 DEBUG [main] (FileManagerImpl.java:170) - Add location: ClassLoaderLocator\n",
      "18 Jan 2023 17:44:01 DEBUG [main] (JenaIOEnvironment.java:180) - Failed to find configuration: location-mapping.ttl;location-mapping.rdf;etc/location-mapping.rdf;etc/location-mapping.ttl\n",
      "18 Jan 2023 17:44:01 DEBUG [main] (SystemTDB.java:337) - System architecture: 64 bit\n",
      "18 Jan 2023 17:44:01 DEBUG [main] (FileManagerImpl.java:170) - Add location: LocatorFile\n",
      "18 Jan 2023 17:44:01 DEBUG [main] (FileManagerImpl.java:170) - Add location: LocatorURL\n",
      "18 Jan 2023 17:44:01 DEBUG [main] (FileManagerImpl.java:170) - Add location: ClassLoaderLocator\n",
      "18 Jan 2023 17:44:01 DEBUG [main] (FileManagerImpl.java:569) - Found: ont-policy.rdf (ClassLoaderLocator)\n",
      "18 Jan 2023 17:44:01 DEBUG [main] (StreamManager.java:149) - Not mapped: file:/mnt/c/Users/D060249/OneDrive%20-%20SAP%20SE/Jupyter_Home/jRDF2vec%20/./pizza.owl.xml\n",
      "18 Jan 2023 17:44:01  INFO [main] (NtMemoryWalkGenerator.java:421) - File pizza.owl.nt successfully read. 1574 subjects loaded.\n",
      "18 Jan 2023 17:44:01  INFO [main] (WalkGeneratorManager.java:99) - Model read into memory.\n",
      "18 Jan 2023 17:44:02 DEBUG [main] (LockMRSW.java:57) - Lock : main\n",
      "18 Jan 2023 17:44:02 DEBUG [main] (LockMRSW.java:57) - Lock : main\n",
      "18 Jan 2023 17:44:02 DEBUG [main] (LockMRSW.java:57) - Lock : main\n",
      "18 Jan 2023 17:44:02 DEBUG [main] (LockMRSW.java:57) - Lock : main\n",
      "\n",
      "Total Time:\n",
      "Days: 0\n",
      "Hours: 0\n",
      "Minutes: 0\n",
      "Seconds: 1\n",
      "\n"
     ]
    }
   ],
   "source": [
    "# generate walks\n",
    "!java -jar ./jrdf2vec.jar -onlyWalks -graph ./pizza.owl.xml"
   ]
  },
  {
   "cell_type": "code",
   "execution_count": 25,
   "id": "91dc40c5-d7bd-4d65-bd9f-db7289c1b667",
   "metadata": {},
   "outputs": [
    {
     "name": "stdout",
     "output_type": "stream",
     "text": [
      "/mnt/c/Users/D060249/OneDrive - SAP SE/Jupyter_Home/jRDF2vec \n"
     ]
    }
   ],
   "source": [
    "# decompress walk file\n",
    "!gunzip ./walks/walk_file_0.txt.gz"
   ]
  },
  {
   "cell_type": "markdown",
   "id": "70f1b83e-4a21-49cc-85b7-14b50a577bbb",
   "metadata": {},
   "source": [
    "## Embedding Generation"
   ]
  },
  {
   "cell_type": "code",
   "execution_count": 30,
   "id": "71701db9-b7bd-4712-9308-ddea2857bbdb",
   "metadata": {},
   "outputs": [
    {
     "name": "stdout",
     "output_type": "stream",
     "text": [
      "Starting training using file ./walks/walk_file_0.txt\n",
      "Vocab size: 450\n",
      "Words in train file: 29456\n"
     ]
    }
   ],
   "source": [
    "!./word2vec -train ./walks/walk_file_0.txt -output oa100.txt -type 3 -min-count 0 -cap 1"
   ]
  },
  {
   "cell_type": "code",
   "execution_count": 31,
   "id": "b5d70250-4a78-48b5-81a9-c60e603a1a27",
   "metadata": {},
   "outputs": [
    {
     "name": "stdout",
     "output_type": "stream",
     "text": [
      "/mnt/c/Users/D060249/OneDrive - SAP SE/Jupyter_Home/jRDF2vec \n"
     ]
    }
   ],
   "source": [
    "!pwd"
   ]
  },
  {
   "cell_type": "code",
   "execution_count": null,
   "id": "bd215ec7-3945-4f6c-8114-9ecf6fcf599a",
   "metadata": {},
   "outputs": [],
   "source": []
  }
 ],
 "metadata": {
  "kernelspec": {
   "display_name": "Python 3",
   "language": "python",
   "name": "python3"
  },
  "language_info": {
   "codemirror_mode": {
    "name": "ipython",
    "version": 3
   },
   "file_extension": ".py",
   "mimetype": "text/x-python",
   "name": "python",
   "nbconvert_exporter": "python",
   "pygments_lexer": "ipython3",
   "version": "3.8.5"
  }
 },
 "nbformat": 4,
 "nbformat_minor": 5
}
